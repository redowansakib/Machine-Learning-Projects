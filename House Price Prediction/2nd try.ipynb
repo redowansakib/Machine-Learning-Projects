{
 "cells": [
  {
   "cell_type": "code",
   "execution_count": 1,
   "id": "2f2a1acc-09cf-426e-95ae-adbe495ba9e7",
   "metadata": {},
   "outputs": [],
   "source": [
    "import numpy as np\n",
    "import pandas as pd\n",
    "import matplotlib.pyplot as plt\n",
    "%matplotlib inline\n",
    "import seaborn as sns\n",
    "sns.set_style('darkgrid')\n",
    "\n",
    "from sklearn.base import BaseEstimator, TransformerMixin\n",
    "from sklearn.compose import ColumnTransformer\n",
    "from sklearn.impute import SimpleImputer\n",
    "from sklearn.preprocessing import LabelEncoder, StandardScaler, PolynomialFeatures, TargetEncoder, OrdinalEncoder\n",
    "from sklearn.model_selection import train_test_split, GridSearchCV, RandomizedSearchCV, cross_val_score\n",
    "from sklearn.linear_model import ElasticNet\n",
    "from sklearn.svm import SVR\n",
    "from sklearn.neighbors import KNeighborsRegressor\n",
    "from sklearn.pipeline import Pipeline\n",
    "from sklearn.decomposition import PCA\n",
    "from sklearn.metrics import  r2_score, mean_squared_error, mean_absolute_error\n",
    "\n",
    "from sklearn.inspection import permutation_importance\n",
    "\n",
    "from scipy.stats import f_oneway\n",
    "from statsmodels.stats.multicomp import pairwise_tukeyhsd\n",
    "\n",
    "seed = 42"
   ]
  },
  {
   "cell_type": "code",
   "execution_count": 2,
   "id": "6901e1f6-dd09-4716-8110-ae2a5ca60345",
   "metadata": {},
   "outputs": [],
   "source": [
    "df = pd.read_csv('data.csv')"
   ]
  },
  {
   "cell_type": "code",
   "execution_count": 3,
   "id": "040b4b1b-6e1b-4eb5-b14a-fd7588a761c1",
   "metadata": {},
   "outputs": [
    {
     "data": {
      "text/plain": [
       "(1460, 81)"
      ]
     },
     "execution_count": 3,
     "metadata": {},
     "output_type": "execute_result"
    }
   ],
   "source": [
    "df.shape"
   ]
  },
  {
   "cell_type": "code",
   "execution_count": 4,
   "id": "fb5624b7-5a3d-4aca-bb12-3836d6f4a507",
   "metadata": {},
   "outputs": [
    {
     "name": "stdout",
     "output_type": "stream",
     "text": [
      "<class 'pandas.core.frame.DataFrame'>\n",
      "RangeIndex: 1460 entries, 0 to 1459\n",
      "Data columns (total 81 columns):\n",
      " #   Column         Non-Null Count  Dtype  \n",
      "---  ------         --------------  -----  \n",
      " 0   Id             1460 non-null   int64  \n",
      " 1   MSSubClass     1460 non-null   int64  \n",
      " 2   MSZoning       1460 non-null   object \n",
      " 3   LotFrontage    1201 non-null   float64\n",
      " 4   LotArea        1460 non-null   int64  \n",
      " 5   Street         1460 non-null   object \n",
      " 6   Alley          91 non-null     object \n",
      " 7   LotShape       1460 non-null   object \n",
      " 8   LandContour    1460 non-null   object \n",
      " 9   Utilities      1460 non-null   object \n",
      " 10  LotConfig      1460 non-null   object \n",
      " 11  LandSlope      1460 non-null   object \n",
      " 12  Neighborhood   1460 non-null   object \n",
      " 13  Condition1     1460 non-null   object \n",
      " 14  Condition2     1460 non-null   object \n",
      " 15  BldgType       1460 non-null   object \n",
      " 16  HouseStyle     1460 non-null   object \n",
      " 17  OverallQual    1460 non-null   int64  \n",
      " 18  OverallCond    1460 non-null   int64  \n",
      " 19  YearBuilt      1460 non-null   int64  \n",
      " 20  YearRemodAdd   1460 non-null   int64  \n",
      " 21  RoofStyle      1460 non-null   object \n",
      " 22  RoofMatl       1460 non-null   object \n",
      " 23  Exterior1st    1460 non-null   object \n",
      " 24  Exterior2nd    1460 non-null   object \n",
      " 25  MasVnrType     588 non-null    object \n",
      " 26  MasVnrArea     1452 non-null   float64\n",
      " 27  ExterQual      1460 non-null   object \n",
      " 28  ExterCond      1460 non-null   object \n",
      " 29  Foundation     1460 non-null   object \n",
      " 30  BsmtQual       1423 non-null   object \n",
      " 31  BsmtCond       1423 non-null   object \n",
      " 32  BsmtExposure   1422 non-null   object \n",
      " 33  BsmtFinType1   1423 non-null   object \n",
      " 34  BsmtFinSF1     1460 non-null   int64  \n",
      " 35  BsmtFinType2   1422 non-null   object \n",
      " 36  BsmtFinSF2     1460 non-null   int64  \n",
      " 37  BsmtUnfSF      1460 non-null   int64  \n",
      " 38  TotalBsmtSF    1460 non-null   int64  \n",
      " 39  Heating        1460 non-null   object \n",
      " 40  HeatingQC      1460 non-null   object \n",
      " 41  CentralAir     1460 non-null   object \n",
      " 42  Electrical     1459 non-null   object \n",
      " 43  1stFlrSF       1460 non-null   int64  \n",
      " 44  2ndFlrSF       1460 non-null   int64  \n",
      " 45  LowQualFinSF   1460 non-null   int64  \n",
      " 46  GrLivArea      1460 non-null   int64  \n",
      " 47  BsmtFullBath   1460 non-null   int64  \n",
      " 48  BsmtHalfBath   1460 non-null   int64  \n",
      " 49  FullBath       1460 non-null   int64  \n",
      " 50  HalfBath       1460 non-null   int64  \n",
      " 51  BedroomAbvGr   1460 non-null   int64  \n",
      " 52  KitchenAbvGr   1460 non-null   int64  \n",
      " 53  KitchenQual    1460 non-null   object \n",
      " 54  TotRmsAbvGrd   1460 non-null   int64  \n",
      " 55  Functional     1460 non-null   object \n",
      " 56  Fireplaces     1460 non-null   int64  \n",
      " 57  FireplaceQu    770 non-null    object \n",
      " 58  GarageType     1379 non-null   object \n",
      " 59  GarageYrBlt    1379 non-null   float64\n",
      " 60  GarageFinish   1379 non-null   object \n",
      " 61  GarageCars     1460 non-null   int64  \n",
      " 62  GarageArea     1460 non-null   int64  \n",
      " 63  GarageQual     1379 non-null   object \n",
      " 64  GarageCond     1379 non-null   object \n",
      " 65  PavedDrive     1460 non-null   object \n",
      " 66  WoodDeckSF     1460 non-null   int64  \n",
      " 67  OpenPorchSF    1460 non-null   int64  \n",
      " 68  EnclosedPorch  1460 non-null   int64  \n",
      " 69  3SsnPorch      1460 non-null   int64  \n",
      " 70  ScreenPorch    1460 non-null   int64  \n",
      " 71  PoolArea       1460 non-null   int64  \n",
      " 72  PoolQC         7 non-null      object \n",
      " 73  Fence          281 non-null    object \n",
      " 74  MiscFeature    54 non-null     object \n",
      " 75  MiscVal        1460 non-null   int64  \n",
      " 76  MoSold         1460 non-null   int64  \n",
      " 77  YrSold         1460 non-null   int64  \n",
      " 78  SaleType       1460 non-null   object \n",
      " 79  SaleCondition  1460 non-null   object \n",
      " 80  SalePrice      1460 non-null   int64  \n",
      "dtypes: float64(3), int64(35), object(43)\n",
      "memory usage: 924.0+ KB\n"
     ]
    }
   ],
   "source": [
    "df.info()"
   ]
  },
  {
   "cell_type": "code",
   "execution_count": 5,
   "id": "5a753f86-5abc-4f2c-ae14-365dafd8731b",
   "metadata": {},
   "outputs": [],
   "source": [
    "X = df.iloc[:,:-1]\n",
    "y = np.log(df.iloc[:,-1])"
   ]
  },
  {
   "cell_type": "code",
   "execution_count": 6,
   "id": "b9c8667e-b24b-4d5b-8b2f-b8548c39d3ad",
   "metadata": {},
   "outputs": [
    {
     "data": {
      "text/plain": [
       "((1460, 80), (1460,))"
      ]
     },
     "execution_count": 6,
     "metadata": {},
     "output_type": "execute_result"
    }
   ],
   "source": [
    "X.shape, y.shape"
   ]
  },
  {
   "cell_type": "code",
   "execution_count": 7,
   "id": "336af156-632b-49bd-9e24-a9afd17cda15",
   "metadata": {},
   "outputs": [],
   "source": [
    "X_train, X_test, y_train, y_test = train_test_split(X,y,test_size=0.4,random_state=seed)"
   ]
  },
  {
   "cell_type": "markdown",
   "id": "efdae616-68dd-40f9-9172-8437020f7ae5",
   "metadata": {},
   "source": [
    "#### Imputation Component"
   ]
  },
  {
   "cell_type": "code",
   "execution_count": 65,
   "id": "1a5cb397-5d8c-4b31-8c07-4da39323ce5c",
   "metadata": {},
   "outputs": [],
   "source": [
    "binary_imp = ['CentralAir']\n",
    "mode_imp = ['Electrical']\n",
    "na_imp = X_train.select_dtypes('object').columns.drop([*mode_imp,*binary_imp])\n",
    "zero_imp = X_train.select_dtypes('number').columns\n",
    "\n",
    "impute = ColumnTransformer([\n",
    "    ('na_imp',SimpleImputer(strategy='constant',fill_value='NA'), na_imp),\n",
    "    ('zero_imp',SimpleImputer(strategy='constant',fill_value=0), zero_imp),\n",
    "    ('mode_imp',SimpleImputer(strategy='most_frequent'), mode_imp),\n",
    "    ('binary_imp',SimpleImputer(strategy='constant',fill_value='N'),binary_imp)\n",
    "    ], remainder='passthrough', verbose_feature_names_out=False,force_int_remainder_cols=False).set_output(transform='pandas')"
   ]
  },
  {
   "cell_type": "markdown",
   "id": "918cf66f-a38b-4360-a9ba-be730db52855",
   "metadata": {},
   "source": [
    "#### Encoding Component"
   ]
  },
  {
   "cell_type": "code",
   "execution_count": 11,
   "id": "2e5ae8f5-0651-4a84-b7cc-2162b5477f81",
   "metadata": {},
   "outputs": [],
   "source": [
    "ord_feat = ['LotShape','Utilities','LandSlope','BldgType','ExterQual','ExterCond',\n",
    "            'BsmtQual','BsmtCond','BsmtExposure','BsmtFinType1','BsmtFinType2',\n",
    "            'HeatingQC','Electrical','KitchenQual','FireplaceQu','GarageFinish',\n",
    "            'GarageQual','GarageCond','PavedDrive','PoolQC','Fence']\n",
    "num_feat = X_train.select_dtypes('number').columns\n",
    "bi_feat=['CentralAir']\n",
    "cat_feat = X_train.columns.drop([*ord_feat,*num_feat,*bi_feat])\n",
    "\n",
    "ord_dic = dict(\n",
    "    LotShape = ['NA','Reg', 'IR1', 'IR2', 'IR3'],\n",
    "    Utilities =['NA','AllPub', 'NoSeWr','NoSeWa','ELO'],\n",
    "    LandSlope =['NA','Gtl', 'Mod', 'Sev'],\n",
    "    BldgType =['NA','1Fam', '2fmCon', 'Duplex', 'TwnhsE', 'Twnhs'],\n",
    "    BsmtExposure = ['NA','No', 'Gd','Av','Mn'],\n",
    "    BsmtFinType1 = ['NA','GLQ', 'ALQ', 'BLQ',  'Rec', 'LwQ','Unf',],\n",
    "    BsmtFinType2 = ['NA','GLQ', 'ALQ', 'BLQ',  'Rec', 'LwQ','Unf',],\n",
    "    GarageFinish = ['NA','Fin','RFn','Unf'],\n",
    "    PavedDrive = ['NA','Y', 'N', 'P'],\n",
    "    Fence = ['NA','MnPrv', 'GdWo', 'GdPrv', 'MnWw'],\n",
    "    Electrical = ['NA','SBrkr','FuseA','FuseF','FuseP','Mix'],\n",
    "    rest =['NA','Ex','Gd','TA', 'Fa','Po']\n",
    ")\n",
    "\n",
    "categories = [ord_dic[col] if col in ord_dic.keys() else ord_dic['rest'] for col in ord_feat]\n",
    "\n",
    "encode = ColumnTransformer([\n",
    "    ('oe', OrdinalEncoder(categories = categories,handle_unknown='use_encoded_value',unknown_value=-1),ord_feat),\n",
    "    ('te', TargetEncoder(cv=10,shuffle=True,random_state=seed),cat_feat),\n",
    "    ('oe_bi', OrdinalEncoder(handle_unknown='use_encoded_value',unknown_value=-1),bi_feat)\n",
    "], \n",
    "    remainder='passthrough',\n",
    "    verbose_feature_names_out=False,\n",
    "    force_int_remainder_cols=False\n",
    "                          )"
   ]
  },
  {
   "cell_type": "code",
   "execution_count": null,
   "id": "5c9e74f6-7f12-4fbb-9966-f60638081ac1",
   "metadata": {},
   "outputs": [],
   "source": [
    "en = Pipeline([\n",
    "    ('impute',impute),\n",
    "    ('encode',encode),\n",
    "    ('standard1',standard),\n",
    "    ('poly',poly),\n",
    "    ('standard2',standard),\n",
    "    ('pca',pca),\n",
    "    ('en',ElasticNet(random_state=seed))\n",
    "])"
   ]
  },
  {
   "cell_type": "markdown",
   "id": "a211f974-9064-47f4-a6ba-1cc32956c788",
   "metadata": {},
   "source": [
    "#### PCA Component"
   ]
  },
  {
   "cell_type": "code",
   "execution_count": 145,
   "id": "68255ac4-3d43-43ca-879b-c4de731f381e",
   "metadata": {},
   "outputs": [],
   "source": [
    "pca = PCA(random_state=seed)"
   ]
  },
  {
   "cell_type": "markdown",
   "id": "693d1906-37fa-4173-ae7b-6b535adddc07",
   "metadata": {},
   "source": [
    "#### Polynomial Feature Component"
   ]
  },
  {
   "cell_type": "code",
   "execution_count": 129,
   "id": "094ac98e-c3ef-48f5-a3d5-dc3e3962aec5",
   "metadata": {},
   "outputs": [],
   "source": [
    "poly = PolynomialFeatures(include_bias=False).set_output(transform='pandas')"
   ]
  },
  {
   "cell_type": "markdown",
   "id": "7a0dc3d7-79d8-4f74-9c55-81c7150d6e41",
   "metadata": {},
   "source": [
    "### Model Training"
   ]
  },
  {
   "cell_type": "markdown",
   "id": "8011b56f-38fc-4044-a8b5-87dfb2c23702",
   "metadata": {},
   "source": [
    "#### ElasticNet"
   ]
  },
  {
   "cell_type": "code",
   "execution_count": 139,
   "id": "6101dec6-dada-4507-a9f4-61da1e483e71",
   "metadata": {},
   "outputs": [],
   "source": [
    "# !pip install optuna\n",
    "import optuna \n",
    "\n",
    "en = Pipeline([\n",
    "    ('impute',impute),\n",
    "    ('encode',encode),\n",
    "    ('standard1',StandardScaler()),\n",
    "    ('poly',poly),\n",
    "    ('standard2',StandardScaler()),\n",
    "    ('pca',pca),\n",
    "    ('en',ElasticNet(random_state=seed))\n",
    "])\n",
    "\n",
    "def objective(trial):\n",
    "    model_params = {\n",
    "        'poly__degree':trial.suggest_int('poly__degree',1,2),\n",
    "        'pca__n_components':trial.suggest_int('pca__n_components',10,50),\n",
    "        'en__alpha':trial.suggest_float('en__alpha',0.1,1),\n",
    "        'en__l1_ratio':trial.suggest_float('en__l1_ratio',0.1,1),\n",
    "        'en__max_iter':trial.suggest_int('en__max_iter',1e3,1e4,log=True),\n",
    "        'en__tol':trial.suggest_float('en__tol',1e-5,1e-2,log=True),\n",
    "        'en__selection':trial.suggest_categorical('en__selection',['random','cyclic'])\n",
    "        \n",
    "    }\n",
    "\n",
    "    en.set_params(**model_params)\n",
    "    score = cross_val_score(en, X_train, y_train, cv=5, scoring='r2').mean()\n",
    "    return score\n",
    "    \n",
    "study = optuna.create_study(direction='maximize',sampler=optuna.samplers.TPESampler(seed=seed))\n",
    "study.optimize(objective,n_trials=100)\n",
    "\n",
    "en.set_params(**study.best_trial.params)\n",
    "en.fit(X_train,y_train)"
   ]
  },
  {
   "cell_type": "code",
   "execution_count": 185,
   "id": "64a0abaf-38c4-4cc2-86c0-c581f0c0577c",
   "metadata": {},
   "outputs": [
    {
     "name": "stdout",
     "output_type": "stream",
     "text": [
      "\u001b[92mBest Elastic Net Parameters\u001b[0m\n",
      "{'en__alpha': 0.1261934209292713,\n",
      " 'en__l1_ratio': 0.10014738370229638,\n",
      " 'en__max_iter': 2241,\n",
      " 'en__selection': 'random',\n",
      " 'en__tol': 2.9858801743799305e-05,\n",
      " 'pca__n_components': 36,\n",
      " 'poly__degree': 1}\n",
      "Train MSE:                0.023183941933739485\n",
      "Test MSE:                 0.022206372250748275\n",
      "Trian R2 Score:           0.8467083629068829\n",
      "Test R2 Score:            0.8707188531070004\n",
      "Optuna Best Trial Value:  0.8283418574018248\n"
     ]
    }
   ],
   "source": [
    "from pprint import pprint\n",
    "print('\\033[92mBest Elastic Net Parameters\\033[0m')\n",
    "pprint(study.best_trial.params)\n",
    "\n",
    "print('Train MSE:               ',mean_squared_error(y_train,en.predict(X_train)))\n",
    "print('Test MSE:                ',mean_squared_error(y_test,en.predict(X_test)))\n",
    "print('Trian R2 Score:          ',r2_score(y_train,en.predict(X_train)))\n",
    "print('Test R2 Score:           ',r2_score(y_test,en.predict(X_test)))\n",
    "print('Optuna Best Trial Value: ',study.best_trial.value)"
   ]
  },
  {
   "cell_type": "code",
   "execution_count": null,
   "id": "805be803-c301-4300-9c34-515c04419148",
   "metadata": {},
   "outputs": [],
   "source": [
    "en = Pipeline([\n",
    "    ('impute',impute),\n",
    "    ('encode',encode),\n",
    "    ('standard',StandardScaler()),\n",
    "    ('pca',pca),\n",
    "    ('svr',ElasticNet(random_state=seed))\n",
    "])\n",
    "\n",
    "def objective(trial):\n",
    "    kernel = trial.suggest_category('svr__kernel',['linear','poly','rbf','sigmoid'])\n",
    "    pca__c_components = trial.suggest_int('pca__c_components',10,60)\n",
    "    \n",
    "    kernel_params = {\n",
    "        'linear': {\n",
    "            'C':trial.suggest_float('C',1e-2,1,log)\n",
    "        },\n",
    "        'poly': {\n",
    "            'degree':trial.suggest_float('degree',1,2),\n",
    "            \n",
    "        },\n",
    "        'rbf': {},\n",
    "        'sigmoid': {}\n",
    "    }\n",
    "    model_params = {\n",
    "        'pca__n_components':trial.suggest_int('pca__n_components',10,50),\n",
    "        'en__alpha':trial.suggest_float('en__alpha',0.1,1),\n",
    "        'en__l1_ratio':trial.suggest_float('en__l1_ratio',0.1,1),\n",
    "        'en__max_iter':trial.suggest_int('en__max_iter',1e3,1e4,log=True),\n",
    "        'en__tol':trial.suggest_float('en__tol',1e-5,1e-2,log=True),\n",
    "        'en__selection':trial.suggest_categorical('en__selection',['random','cyclic'])\n",
    "        \n",
    "    }\n",
    "\n",
    "    en.set_params(**model_params)\n",
    "    score = cross_val_score(en, X_train, y_train, cv=5, scoring='r2').mean()\n",
    "    return score\n",
    "    \n",
    "study = optuna.create_study(direction='maximize',sampler=optuna.samplers.TPESampler(seed=seed))\n",
    "study.optimize(objective,n_trials=100)\n",
    "\n",
    "en.set_params(**study.best_trial.params)\n",
    "en.fit(X_train,y_train)"
   ]
  }
 ],
 "metadata": {
  "kernelspec": {
   "display_name": "Python 3 (ipykernel)",
   "language": "python",
   "name": "python3"
  },
  "language_info": {
   "codemirror_mode": {
    "name": "ipython",
    "version": 3
   },
   "file_extension": ".py",
   "mimetype": "text/x-python",
   "name": "python",
   "nbconvert_exporter": "python",
   "pygments_lexer": "ipython3",
   "version": "3.12.4"
  }
 },
 "nbformat": 4,
 "nbformat_minor": 5
}
